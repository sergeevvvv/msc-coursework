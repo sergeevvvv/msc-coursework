{
  "nbformat": 4,
  "nbformat_minor": 0,
  "metadata": {
    "colab": {
      "provenance": [],
      "gpuType": "V28"
    },
    "kernelspec": {
      "name": "python3",
      "display_name": "Python 3"
    },
    "language_info": {
      "name": "python"
    },
    "accelerator": "TPU"
  },
  "cells": [
    {
      "cell_type": "markdown",
      "source": [
        "# Music Recommender System using Spotify Playlist Data\n",
        "\n",
        "- Unsupervised Algorithms in Machine Learning Final Project\n",
        "- Viacheslav Sergeev <viacheslav.sergeev@colorado.edu>\n",
        "- University of Colorado Boulder\n",
        "\n",
        "## Problem Statement\n",
        "\n",
        "In this project, I develop a music recommender engine solving it as an unsupervised machine learning problem. I use songs, artists, and playlists as features to build an effective recommendation system that recommends new songs to users based on their listening history and listening history of other users.\n",
        "\n",
        "## Data\n",
        "\n",
        "I use Kaggle dataset Spotify Playlists ([link](https://www.kaggle.com/datasets/andrewmvd/spotify-playlists)) by andrewmvd. Project development date is 11/03/24. I'm not using any code related to this dataset for development.\n",
        "\n",
        "### Kaggle Description\n",
        "\n",
        "> Music is ubiquitous in today's world-almost everyone enjoys listening to music. With the rise of streaming platforms, the amount of music available has substantially increased. While users may seemingly benefit from this plethora of available music, at the same time, it has increasingly made it harder for users to explore new music and find songs they like. Personalized access to music libraries and music recommender systems aim to help users discover and retrieve music they like and enjoy. This dataset is based on the subset of users in the #nowplaying dataset who publish their #nowplaying tweets via Spotify. In principle, the dataset holds users, their playlists and the tracks contained in these playlists.\n",
        "\n",
        "### Columns\n",
        "\n",
        "The csv-file holding the dataset contains the following columns:\n",
        "\"user_id\", \"artistname\", \"trackname\", \"playlistname\"\n",
        ", where\n",
        "- user_id is a hash of the user's Spotify user name\n",
        "- artistname is the name of the artist\n",
        "- trackname is the title of the track and\n",
        "- playlistname is the name of the playlist that contains this track.\n",
        "\n",
        "\n"
      ],
      "metadata": {
        "id": "ufdpunH6v_zG"
      }
    },
    {
      "cell_type": "markdown",
      "source": [
        "## 1. Exploratory Data Analysis\n",
        "### 1.1 Data Loading\n",
        "#### 1.1.1 Kaggle API\n",
        "\n",
        "I download the dataset directly from Kaggle using their API."
      ],
      "metadata": {
        "id": "lxEmKYt8YpB4"
      }
    },
    {
      "cell_type": "code",
      "execution_count": null,
      "metadata": {
        "colab": {
          "base_uri": "https://localhost:8080/"
        },
        "id": "efkUo-X2irZi",
        "outputId": "d846a12a-cc35-48fb-eee8-80649dda52cc"
      },
      "outputs": [
        {
          "output_type": "stream",
          "name": "stdout",
          "text": [
            "Path to dataset files: /root/.cache/kagglehub/datasets/andrewmvd/spotify-playlists/versions/1\n"
          ]
        }
      ],
      "source": [
        "import kagglehub\n",
        "\n",
        "path = kagglehub.dataset_download(\"andrewmvd/spotify-playlists\")\n",
        "\n",
        "print(\"Path to dataset files:\", path)\n"
      ]
    },
    {
      "cell_type": "markdown",
      "source": [
        "#### 1.1.2 Imports"
      ],
      "metadata": {
        "id": "f88mkqpLYxrW"
      }
    },
    {
      "cell_type": "code",
      "source": [
        "import pandas as pd\n",
        "import numpy as np\n",
        "import matplotlib.pyplot as plt\n",
        "import seaborn as sns\n",
        "\n",
        "import nltk\n",
        "from nltk.corpus import stopwords\n",
        "from nltk.stem import WordNetLemmatizer\n",
        "import string\n",
        "import re\n",
        "\n",
        "from sklearn.metrics.pairwise import cosine_similarity\n",
        "from sklearn.feature_extraction.text import TfidfVectorizer\n",
        "from sklearn.decomposition import TruncatedSVD\n",
        "from sklearn.model_selection import train_test_split\n",
        "from sklearn.decomposition import NMF\n",
        "from sklearn.preprocessing import normalize\n",
        "\n",
        "from sklearn.cluster import KMeans\n",
        "from sklearn.metrics import precision_score, recall_score, ndcg_score\n",
        "\n",
        "import warnings\n",
        "warnings.filterwarnings('ignore')\n",
        "\n",
        "nltk.download('stopwords')\n",
        "nltk.download('wordnet')"
      ],
      "metadata": {
        "colab": {
          "base_uri": "https://localhost:8080/"
        },
        "id": "jnpl0iEFtQ9g",
        "outputId": "a725bff5-e05c-404d-aca4-8e3803920c56"
      },
      "execution_count": null,
      "outputs": [
        {
          "output_type": "stream",
          "name": "stderr",
          "text": [
            "[nltk_data] Downloading package stopwords to /root/nltk_data...\n",
            "[nltk_data]   Package stopwords is already up-to-date!\n",
            "[nltk_data] Downloading package wordnet to /root/nltk_data...\n",
            "[nltk_data]   Package wordnet is already up-to-date!\n"
          ]
        },
        {
          "output_type": "execute_result",
          "data": {
            "text/plain": [
              "True"
            ]
          },
          "metadata": {},
          "execution_count": 2
        }
      ]
    },
    {
      "cell_type": "markdown",
      "source": [
        "### 1.1.3 Data Sampling\n",
        "\n",
        "Original dataset is giant and has >12M rows. I'm using Google Colab env with 334GB RAM TPU and even 5% sampling is reaching 100GB RAM. Recommendation systems are always compute-heavy but despite performance downgrade I have to sample because of compute limits."
      ],
      "metadata": {
        "id": "W800jizFYz-0"
      }
    },
    {
      "cell_type": "code",
      "source": [
        "import pandas as pd\n",
        "import random\n",
        "import os\n",
        "filename = os.listdir(path)[0]\n",
        "dataset_path = os.path.join(path, filename)\n",
        "\n",
        "# ref: https://stackoverflow.com/questions/22258491/read-a-small-random-sample-from-a-big-csv-file-into-a-pandas-data-frame\n",
        "df = pd.read_csv(\n",
        "    dataset_path,\n",
        "    skiprows=lambda i: i>0 and random.random() > 0.05,\n",
        "    on_bad_lines='skip',\n",
        "    header=0\n",
        "    )\n",
        "\n",
        "df.head()"
      ],
      "metadata": {
        "colab": {
          "base_uri": "https://localhost:8080/",
          "height": 206
        },
        "id": "a7kOdj_8i4U_",
        "outputId": "641c872f-6f97-4d42-c861-c4438dc0abb6"
      },
      "execution_count": null,
      "outputs": [
        {
          "output_type": "execute_result",
          "data": {
            "text/plain": [
              "                            user_id  \"artistname\"  \\\n",
              "0  9cc0cfd4d7d7885102480dd99e7a90d6  Joshua Radin   \n",
              "1  9cc0cfd4d7d7885102480dd99e7a90d6  Joshua Radin   \n",
              "2  9cc0cfd4d7d7885102480dd99e7a90d6   The Coronas   \n",
              "3  07f0fc3be95dcd878966b1f9572ff670          C418   \n",
              "4  07f0fc3be95dcd878966b1f9572ff670   Glen Porter   \n",
              "\n",
              "                           \"trackname\"  \"playlistname\"  \n",
              "0  I'd Rather Be With You [Radio Edit]  HARD ROCK 2010  \n",
              "1                             Only You  HARD ROCK 2010  \n",
              "2                       San Diego Song  HARD ROCK 2010  \n",
              "3                Droopy Likes Ricochet            C418  \n",
              "4                             29 Palms       Chill out  "
            ],
            "text/html": [
              "\n",
              "  <div id=\"df-445264dd-2a9d-48a4-a445-c56348090a6d\" class=\"colab-df-container\">\n",
              "    <div>\n",
              "<style scoped>\n",
              "    .dataframe tbody tr th:only-of-type {\n",
              "        vertical-align: middle;\n",
              "    }\n",
              "\n",
              "    .dataframe tbody tr th {\n",
              "        vertical-align: top;\n",
              "    }\n",
              "\n",
              "    .dataframe thead th {\n",
              "        text-align: right;\n",
              "    }\n",
              "</style>\n",
              "<table border=\"1\" class=\"dataframe\">\n",
              "  <thead>\n",
              "    <tr style=\"text-align: right;\">\n",
              "      <th></th>\n",
              "      <th>user_id</th>\n",
              "      <th>\"artistname\"</th>\n",
              "      <th>\"trackname\"</th>\n",
              "      <th>\"playlistname\"</th>\n",
              "    </tr>\n",
              "  </thead>\n",
              "  <tbody>\n",
              "    <tr>\n",
              "      <th>0</th>\n",
              "      <td>9cc0cfd4d7d7885102480dd99e7a90d6</td>\n",
              "      <td>Joshua Radin</td>\n",
              "      <td>I'd Rather Be With You [Radio Edit]</td>\n",
              "      <td>HARD ROCK 2010</td>\n",
              "    </tr>\n",
              "    <tr>\n",
              "      <th>1</th>\n",
              "      <td>9cc0cfd4d7d7885102480dd99e7a90d6</td>\n",
              "      <td>Joshua Radin</td>\n",
              "      <td>Only You</td>\n",
              "      <td>HARD ROCK 2010</td>\n",
              "    </tr>\n",
              "    <tr>\n",
              "      <th>2</th>\n",
              "      <td>9cc0cfd4d7d7885102480dd99e7a90d6</td>\n",
              "      <td>The Coronas</td>\n",
              "      <td>San Diego Song</td>\n",
              "      <td>HARD ROCK 2010</td>\n",
              "    </tr>\n",
              "    <tr>\n",
              "      <th>3</th>\n",
              "      <td>07f0fc3be95dcd878966b1f9572ff670</td>\n",
              "      <td>C418</td>\n",
              "      <td>Droopy Likes Ricochet</td>\n",
              "      <td>C418</td>\n",
              "    </tr>\n",
              "    <tr>\n",
              "      <th>4</th>\n",
              "      <td>07f0fc3be95dcd878966b1f9572ff670</td>\n",
              "      <td>Glen Porter</td>\n",
              "      <td>29 Palms</td>\n",
              "      <td>Chill out</td>\n",
              "    </tr>\n",
              "  </tbody>\n",
              "</table>\n",
              "</div>\n",
              "    <div class=\"colab-df-buttons\">\n",
              "\n",
              "  <div class=\"colab-df-container\">\n",
              "    <button class=\"colab-df-convert\" onclick=\"convertToInteractive('df-445264dd-2a9d-48a4-a445-c56348090a6d')\"\n",
              "            title=\"Convert this dataframe to an interactive table.\"\n",
              "            style=\"display:none;\">\n",
              "\n",
              "  <svg xmlns=\"http://www.w3.org/2000/svg\" height=\"24px\" viewBox=\"0 -960 960 960\">\n",
              "    <path d=\"M120-120v-720h720v720H120Zm60-500h600v-160H180v160Zm220 220h160v-160H400v160Zm0 220h160v-160H400v160ZM180-400h160v-160H180v160Zm440 0h160v-160H620v160ZM180-180h160v-160H180v160Zm440 0h160v-160H620v160Z\"/>\n",
              "  </svg>\n",
              "    </button>\n",
              "\n",
              "  <style>\n",
              "    .colab-df-container {\n",
              "      display:flex;\n",
              "      gap: 12px;\n",
              "    }\n",
              "\n",
              "    .colab-df-convert {\n",
              "      background-color: #E8F0FE;\n",
              "      border: none;\n",
              "      border-radius: 50%;\n",
              "      cursor: pointer;\n",
              "      display: none;\n",
              "      fill: #1967D2;\n",
              "      height: 32px;\n",
              "      padding: 0 0 0 0;\n",
              "      width: 32px;\n",
              "    }\n",
              "\n",
              "    .colab-df-convert:hover {\n",
              "      background-color: #E2EBFA;\n",
              "      box-shadow: 0px 1px 2px rgba(60, 64, 67, 0.3), 0px 1px 3px 1px rgba(60, 64, 67, 0.15);\n",
              "      fill: #174EA6;\n",
              "    }\n",
              "\n",
              "    .colab-df-buttons div {\n",
              "      margin-bottom: 4px;\n",
              "    }\n",
              "\n",
              "    [theme=dark] .colab-df-convert {\n",
              "      background-color: #3B4455;\n",
              "      fill: #D2E3FC;\n",
              "    }\n",
              "\n",
              "    [theme=dark] .colab-df-convert:hover {\n",
              "      background-color: #434B5C;\n",
              "      box-shadow: 0px 1px 3px 1px rgba(0, 0, 0, 0.15);\n",
              "      filter: drop-shadow(0px 1px 2px rgba(0, 0, 0, 0.3));\n",
              "      fill: #FFFFFF;\n",
              "    }\n",
              "  </style>\n",
              "\n",
              "    <script>\n",
              "      const buttonEl =\n",
              "        document.querySelector('#df-445264dd-2a9d-48a4-a445-c56348090a6d button.colab-df-convert');\n",
              "      buttonEl.style.display =\n",
              "        google.colab.kernel.accessAllowed ? 'block' : 'none';\n",
              "\n",
              "      async function convertToInteractive(key) {\n",
              "        const element = document.querySelector('#df-445264dd-2a9d-48a4-a445-c56348090a6d');\n",
              "        const dataTable =\n",
              "          await google.colab.kernel.invokeFunction('convertToInteractive',\n",
              "                                                    [key], {});\n",
              "        if (!dataTable) return;\n",
              "\n",
              "        const docLinkHtml = 'Like what you see? Visit the ' +\n",
              "          '<a target=\"_blank\" href=https://colab.research.google.com/notebooks/data_table.ipynb>data table notebook</a>'\n",
              "          + ' to learn more about interactive tables.';\n",
              "        element.innerHTML = '';\n",
              "        dataTable['output_type'] = 'display_data';\n",
              "        await google.colab.output.renderOutput(dataTable, element);\n",
              "        const docLink = document.createElement('div');\n",
              "        docLink.innerHTML = docLinkHtml;\n",
              "        element.appendChild(docLink);\n",
              "      }\n",
              "    </script>\n",
              "  </div>\n",
              "\n",
              "\n",
              "<div id=\"df-5fc617f3-0465-4c6a-b3f1-ec5c69f0afad\">\n",
              "  <button class=\"colab-df-quickchart\" onclick=\"quickchart('df-5fc617f3-0465-4c6a-b3f1-ec5c69f0afad')\"\n",
              "            title=\"Suggest charts\"\n",
              "            style=\"display:none;\">\n",
              "\n",
              "<svg xmlns=\"http://www.w3.org/2000/svg\" height=\"24px\"viewBox=\"0 0 24 24\"\n",
              "     width=\"24px\">\n",
              "    <g>\n",
              "        <path d=\"M19 3H5c-1.1 0-2 .9-2 2v14c0 1.1.9 2 2 2h14c1.1 0 2-.9 2-2V5c0-1.1-.9-2-2-2zM9 17H7v-7h2v7zm4 0h-2V7h2v10zm4 0h-2v-4h2v4z\"/>\n",
              "    </g>\n",
              "</svg>\n",
              "  </button>\n",
              "\n",
              "<style>\n",
              "  .colab-df-quickchart {\n",
              "      --bg-color: #E8F0FE;\n",
              "      --fill-color: #1967D2;\n",
              "      --hover-bg-color: #E2EBFA;\n",
              "      --hover-fill-color: #174EA6;\n",
              "      --disabled-fill-color: #AAA;\n",
              "      --disabled-bg-color: #DDD;\n",
              "  }\n",
              "\n",
              "  [theme=dark] .colab-df-quickchart {\n",
              "      --bg-color: #3B4455;\n",
              "      --fill-color: #D2E3FC;\n",
              "      --hover-bg-color: #434B5C;\n",
              "      --hover-fill-color: #FFFFFF;\n",
              "      --disabled-bg-color: #3B4455;\n",
              "      --disabled-fill-color: #666;\n",
              "  }\n",
              "\n",
              "  .colab-df-quickchart {\n",
              "    background-color: var(--bg-color);\n",
              "    border: none;\n",
              "    border-radius: 50%;\n",
              "    cursor: pointer;\n",
              "    display: none;\n",
              "    fill: var(--fill-color);\n",
              "    height: 32px;\n",
              "    padding: 0;\n",
              "    width: 32px;\n",
              "  }\n",
              "\n",
              "  .colab-df-quickchart:hover {\n",
              "    background-color: var(--hover-bg-color);\n",
              "    box-shadow: 0 1px 2px rgba(60, 64, 67, 0.3), 0 1px 3px 1px rgba(60, 64, 67, 0.15);\n",
              "    fill: var(--button-hover-fill-color);\n",
              "  }\n",
              "\n",
              "  .colab-df-quickchart-complete:disabled,\n",
              "  .colab-df-quickchart-complete:disabled:hover {\n",
              "    background-color: var(--disabled-bg-color);\n",
              "    fill: var(--disabled-fill-color);\n",
              "    box-shadow: none;\n",
              "  }\n",
              "\n",
              "  .colab-df-spinner {\n",
              "    border: 2px solid var(--fill-color);\n",
              "    border-color: transparent;\n",
              "    border-bottom-color: var(--fill-color);\n",
              "    animation:\n",
              "      spin 1s steps(1) infinite;\n",
              "  }\n",
              "\n",
              "  @keyframes spin {\n",
              "    0% {\n",
              "      border-color: transparent;\n",
              "      border-bottom-color: var(--fill-color);\n",
              "      border-left-color: var(--fill-color);\n",
              "    }\n",
              "    20% {\n",
              "      border-color: transparent;\n",
              "      border-left-color: var(--fill-color);\n",
              "      border-top-color: var(--fill-color);\n",
              "    }\n",
              "    30% {\n",
              "      border-color: transparent;\n",
              "      border-left-color: var(--fill-color);\n",
              "      border-top-color: var(--fill-color);\n",
              "      border-right-color: var(--fill-color);\n",
              "    }\n",
              "    40% {\n",
              "      border-color: transparent;\n",
              "      border-right-color: var(--fill-color);\n",
              "      border-top-color: var(--fill-color);\n",
              "    }\n",
              "    60% {\n",
              "      border-color: transparent;\n",
              "      border-right-color: var(--fill-color);\n",
              "    }\n",
              "    80% {\n",
              "      border-color: transparent;\n",
              "      border-right-color: var(--fill-color);\n",
              "      border-bottom-color: var(--fill-color);\n",
              "    }\n",
              "    90% {\n",
              "      border-color: transparent;\n",
              "      border-bottom-color: var(--fill-color);\n",
              "    }\n",
              "  }\n",
              "</style>\n",
              "\n",
              "  <script>\n",
              "    async function quickchart(key) {\n",
              "      const quickchartButtonEl =\n",
              "        document.querySelector('#' + key + ' button');\n",
              "      quickchartButtonEl.disabled = true;  // To prevent multiple clicks.\n",
              "      quickchartButtonEl.classList.add('colab-df-spinner');\n",
              "      try {\n",
              "        const charts = await google.colab.kernel.invokeFunction(\n",
              "            'suggestCharts', [key], {});\n",
              "      } catch (error) {\n",
              "        console.error('Error during call to suggestCharts:', error);\n",
              "      }\n",
              "      quickchartButtonEl.classList.remove('colab-df-spinner');\n",
              "      quickchartButtonEl.classList.add('colab-df-quickchart-complete');\n",
              "    }\n",
              "    (() => {\n",
              "      let quickchartButtonEl =\n",
              "        document.querySelector('#df-5fc617f3-0465-4c6a-b3f1-ec5c69f0afad button');\n",
              "      quickchartButtonEl.style.display =\n",
              "        google.colab.kernel.accessAllowed ? 'block' : 'none';\n",
              "    })();\n",
              "  </script>\n",
              "</div>\n",
              "\n",
              "    </div>\n",
              "  </div>\n"
            ],
            "application/vnd.google.colaboratory.intrinsic+json": {
              "type": "dataframe",
              "variable_name": "df"
            }
          },
          "metadata": {},
          "execution_count": 3
        }
      ]
    },
    {
      "cell_type": "markdown",
      "source": [
        "### 1.2 Exploratory Data Analysis\n",
        "#### 1.2.1 Column Names Cleaning\n",
        "For some reason we have whitespaces and quotes in column names."
      ],
      "metadata": {
        "id": "4JJG6DfIZxWw"
      }
    },
    {
      "cell_type": "code",
      "source": [
        "df.columns = [column.strip().replace('\"','') for column in df.columns.tolist()]"
      ],
      "metadata": {
        "id": "OEY0nKCysX1t"
      },
      "execution_count": null,
      "outputs": []
    },
    {
      "cell_type": "markdown",
      "source": [
        "#### 1.2.2 Data Overview"
      ],
      "metadata": {
        "id": "S0PbTZGVaFDB"
      }
    },
    {
      "cell_type": "code",
      "source": [
        "df"
      ],
      "metadata": {
        "colab": {
          "base_uri": "https://localhost:8080/",
          "height": 424
        },
        "id": "UwH4ozMm0Ykj",
        "outputId": "c80c7d7f-0173-4e2e-82fe-7a609339e763"
      },
      "execution_count": null,
      "outputs": [
        {
          "output_type": "execute_result",
          "data": {
            "text/plain": [
              "                                 user_id                artistname  \\\n",
              "0       9cc0cfd4d7d7885102480dd99e7a90d6              Joshua Radin   \n",
              "1       9cc0cfd4d7d7885102480dd99e7a90d6              Joshua Radin   \n",
              "2       9cc0cfd4d7d7885102480dd99e7a90d6               The Coronas   \n",
              "3       07f0fc3be95dcd878966b1f9572ff670                      C418   \n",
              "4       07f0fc3be95dcd878966b1f9572ff670               Glen Porter   \n",
              "...                                  ...                       ...   \n",
              "643572  2302bf9c64dc63d88a750215ed187f2c              Meat Puppets   \n",
              "643573  2302bf9c64dc63d88a750215ed187f2c          Jane's Addiction   \n",
              "643574  2302bf9c64dc63d88a750215ed187f2c              Robin Trower   \n",
              "643575  2302bf9c64dc63d88a750215ed187f2c           Velvet Revolver   \n",
              "643576  2302bf9c64dc63d88a750215ed187f2c  Rage Against The Machine   \n",
              "\n",
              "                                        trackname    playlistname  \n",
              "0             I'd Rather Be With You [Radio Edit]  HARD ROCK 2010  \n",
              "1                                        Only You  HARD ROCK 2010  \n",
              "2                                  San Diego Song  HARD ROCK 2010  \n",
              "3                           Droopy Likes Ricochet            C418  \n",
              "4                                        29 Palms       Chill out  \n",
              "...                                           ...             ...  \n",
              "643572                                  Backwater          iPhone  \n",
              "643573                       Been Caught Stealing          iPhone  \n",
              "643574  Bridge Of Sighs - 2007 Remastered Version          iPhone  \n",
              "643575                             Fall To Pieces          iPhone  \n",
              "643576                            Know Your Enemy          iPhone  \n",
              "\n",
              "[643577 rows x 4 columns]"
            ],
            "text/html": [
              "\n",
              "  <div id=\"df-6ec75e64-af34-45ca-9223-efad1e6b3ae2\" class=\"colab-df-container\">\n",
              "    <div>\n",
              "<style scoped>\n",
              "    .dataframe tbody tr th:only-of-type {\n",
              "        vertical-align: middle;\n",
              "    }\n",
              "\n",
              "    .dataframe tbody tr th {\n",
              "        vertical-align: top;\n",
              "    }\n",
              "\n",
              "    .dataframe thead th {\n",
              "        text-align: right;\n",
              "    }\n",
              "</style>\n",
              "<table border=\"1\" class=\"dataframe\">\n",
              "  <thead>\n",
              "    <tr style=\"text-align: right;\">\n",
              "      <th></th>\n",
              "      <th>user_id</th>\n",
              "      <th>artistname</th>\n",
              "      <th>trackname</th>\n",
              "      <th>playlistname</th>\n",
              "    </tr>\n",
              "  </thead>\n",
              "  <tbody>\n",
              "    <tr>\n",
              "      <th>0</th>\n",
              "      <td>9cc0cfd4d7d7885102480dd99e7a90d6</td>\n",
              "      <td>Joshua Radin</td>\n",
              "      <td>I'd Rather Be With You [Radio Edit]</td>\n",
              "      <td>HARD ROCK 2010</td>\n",
              "    </tr>\n",
              "    <tr>\n",
              "      <th>1</th>\n",
              "      <td>9cc0cfd4d7d7885102480dd99e7a90d6</td>\n",
              "      <td>Joshua Radin</td>\n",
              "      <td>Only You</td>\n",
              "      <td>HARD ROCK 2010</td>\n",
              "    </tr>\n",
              "    <tr>\n",
              "      <th>2</th>\n",
              "      <td>9cc0cfd4d7d7885102480dd99e7a90d6</td>\n",
              "      <td>The Coronas</td>\n",
              "      <td>San Diego Song</td>\n",
              "      <td>HARD ROCK 2010</td>\n",
              "    </tr>\n",
              "    <tr>\n",
              "      <th>3</th>\n",
              "      <td>07f0fc3be95dcd878966b1f9572ff670</td>\n",
              "      <td>C418</td>\n",
              "      <td>Droopy Likes Ricochet</td>\n",
              "      <td>C418</td>\n",
              "    </tr>\n",
              "    <tr>\n",
              "      <th>4</th>\n",
              "      <td>07f0fc3be95dcd878966b1f9572ff670</td>\n",
              "      <td>Glen Porter</td>\n",
              "      <td>29 Palms</td>\n",
              "      <td>Chill out</td>\n",
              "    </tr>\n",
              "    <tr>\n",
              "      <th>...</th>\n",
              "      <td>...</td>\n",
              "      <td>...</td>\n",
              "      <td>...</td>\n",
              "      <td>...</td>\n",
              "    </tr>\n",
              "    <tr>\n",
              "      <th>643572</th>\n",
              "      <td>2302bf9c64dc63d88a750215ed187f2c</td>\n",
              "      <td>Meat Puppets</td>\n",
              "      <td>Backwater</td>\n",
              "      <td>iPhone</td>\n",
              "    </tr>\n",
              "    <tr>\n",
              "      <th>643573</th>\n",
              "      <td>2302bf9c64dc63d88a750215ed187f2c</td>\n",
              "      <td>Jane's Addiction</td>\n",
              "      <td>Been Caught Stealing</td>\n",
              "      <td>iPhone</td>\n",
              "    </tr>\n",
              "    <tr>\n",
              "      <th>643574</th>\n",
              "      <td>2302bf9c64dc63d88a750215ed187f2c</td>\n",
              "      <td>Robin Trower</td>\n",
              "      <td>Bridge Of Sighs - 2007 Remastered Version</td>\n",
              "      <td>iPhone</td>\n",
              "    </tr>\n",
              "    <tr>\n",
              "      <th>643575</th>\n",
              "      <td>2302bf9c64dc63d88a750215ed187f2c</td>\n",
              "      <td>Velvet Revolver</td>\n",
              "      <td>Fall To Pieces</td>\n",
              "      <td>iPhone</td>\n",
              "    </tr>\n",
              "    <tr>\n",
              "      <th>643576</th>\n",
              "      <td>2302bf9c64dc63d88a750215ed187f2c</td>\n",
              "      <td>Rage Against The Machine</td>\n",
              "      <td>Know Your Enemy</td>\n",
              "      <td>iPhone</td>\n",
              "    </tr>\n",
              "  </tbody>\n",
              "</table>\n",
              "<p>643577 rows × 4 columns</p>\n",
              "</div>\n",
              "    <div class=\"colab-df-buttons\">\n",
              "\n",
              "  <div class=\"colab-df-container\">\n",
              "    <button class=\"colab-df-convert\" onclick=\"convertToInteractive('df-6ec75e64-af34-45ca-9223-efad1e6b3ae2')\"\n",
              "            title=\"Convert this dataframe to an interactive table.\"\n",
              "            style=\"display:none;\">\n",
              "\n",
              "  <svg xmlns=\"http://www.w3.org/2000/svg\" height=\"24px\" viewBox=\"0 -960 960 960\">\n",
              "    <path d=\"M120-120v-720h720v720H120Zm60-500h600v-160H180v160Zm220 220h160v-160H400v160Zm0 220h160v-160H400v160ZM180-400h160v-160H180v160Zm440 0h160v-160H620v160ZM180-180h160v-160H180v160Zm440 0h160v-160H620v160Z\"/>\n",
              "  </svg>\n",
              "    </button>\n",
              "\n",
              "  <style>\n",
              "    .colab-df-container {\n",
              "      display:flex;\n",
              "      gap: 12px;\n",
              "    }\n",
              "\n",
              "    .colab-df-convert {\n",
              "      background-color: #E8F0FE;\n",
              "      border: none;\n",
              "      border-radius: 50%;\n",
              "      cursor: pointer;\n",
              "      display: none;\n",
              "      fill: #1967D2;\n",
              "      height: 32px;\n",
              "      padding: 0 0 0 0;\n",
              "      width: 32px;\n",
              "    }\n",
              "\n",
              "    .colab-df-convert:hover {\n",
              "      background-color: #E2EBFA;\n",
              "      box-shadow: 0px 1px 2px rgba(60, 64, 67, 0.3), 0px 1px 3px 1px rgba(60, 64, 67, 0.15);\n",
              "      fill: #174EA6;\n",
              "    }\n",
              "\n",
              "    .colab-df-buttons div {\n",
              "      margin-bottom: 4px;\n",
              "    }\n",
              "\n",
              "    [theme=dark] .colab-df-convert {\n",
              "      background-color: #3B4455;\n",
              "      fill: #D2E3FC;\n",
              "    }\n",
              "\n",
              "    [theme=dark] .colab-df-convert:hover {\n",
              "      background-color: #434B5C;\n",
              "      box-shadow: 0px 1px 3px 1px rgba(0, 0, 0, 0.15);\n",
              "      filter: drop-shadow(0px 1px 2px rgba(0, 0, 0, 0.3));\n",
              "      fill: #FFFFFF;\n",
              "    }\n",
              "  </style>\n",
              "\n",
              "    <script>\n",
              "      const buttonEl =\n",
              "        document.querySelector('#df-6ec75e64-af34-45ca-9223-efad1e6b3ae2 button.colab-df-convert');\n",
              "      buttonEl.style.display =\n",
              "        google.colab.kernel.accessAllowed ? 'block' : 'none';\n",
              "\n",
              "      async function convertToInteractive(key) {\n",
              "        const element = document.querySelector('#df-6ec75e64-af34-45ca-9223-efad1e6b3ae2');\n",
              "        const dataTable =\n",
              "          await google.colab.kernel.invokeFunction('convertToInteractive',\n",
              "                                                    [key], {});\n",
              "        if (!dataTable) return;\n",
              "\n",
              "        const docLinkHtml = 'Like what you see? Visit the ' +\n",
              "          '<a target=\"_blank\" href=https://colab.research.google.com/notebooks/data_table.ipynb>data table notebook</a>'\n",
              "          + ' to learn more about interactive tables.';\n",
              "        element.innerHTML = '';\n",
              "        dataTable['output_type'] = 'display_data';\n",
              "        await google.colab.output.renderOutput(dataTable, element);\n",
              "        const docLink = document.createElement('div');\n",
              "        docLink.innerHTML = docLinkHtml;\n",
              "        element.appendChild(docLink);\n",
              "      }\n",
              "    </script>\n",
              "  </div>\n",
              "\n",
              "\n",
              "<div id=\"df-ebca3036-7c30-4a14-9bc5-5aebbd8068ba\">\n",
              "  <button class=\"colab-df-quickchart\" onclick=\"quickchart('df-ebca3036-7c30-4a14-9bc5-5aebbd8068ba')\"\n",
              "            title=\"Suggest charts\"\n",
              "            style=\"display:none;\">\n",
              "\n",
              "<svg xmlns=\"http://www.w3.org/2000/svg\" height=\"24px\"viewBox=\"0 0 24 24\"\n",
              "     width=\"24px\">\n",
              "    <g>\n",
              "        <path d=\"M19 3H5c-1.1 0-2 .9-2 2v14c0 1.1.9 2 2 2h14c1.1 0 2-.9 2-2V5c0-1.1-.9-2-2-2zM9 17H7v-7h2v7zm4 0h-2V7h2v10zm4 0h-2v-4h2v4z\"/>\n",
              "    </g>\n",
              "</svg>\n",
              "  </button>\n",
              "\n",
              "<style>\n",
              "  .colab-df-quickchart {\n",
              "      --bg-color: #E8F0FE;\n",
              "      --fill-color: #1967D2;\n",
              "      --hover-bg-color: #E2EBFA;\n",
              "      --hover-fill-color: #174EA6;\n",
              "      --disabled-fill-color: #AAA;\n",
              "      --disabled-bg-color: #DDD;\n",
              "  }\n",
              "\n",
              "  [theme=dark] .colab-df-quickchart {\n",
              "      --bg-color: #3B4455;\n",
              "      --fill-color: #D2E3FC;\n",
              "      --hover-bg-color: #434B5C;\n",
              "      --hover-fill-color: #FFFFFF;\n",
              "      --disabled-bg-color: #3B4455;\n",
              "      --disabled-fill-color: #666;\n",
              "  }\n",
              "\n",
              "  .colab-df-quickchart {\n",
              "    background-color: var(--bg-color);\n",
              "    border: none;\n",
              "    border-radius: 50%;\n",
              "    cursor: pointer;\n",
              "    display: none;\n",
              "    fill: var(--fill-color);\n",
              "    height: 32px;\n",
              "    padding: 0;\n",
              "    width: 32px;\n",
              "  }\n",
              "\n",
              "  .colab-df-quickchart:hover {\n",
              "    background-color: var(--hover-bg-color);\n",
              "    box-shadow: 0 1px 2px rgba(60, 64, 67, 0.3), 0 1px 3px 1px rgba(60, 64, 67, 0.15);\n",
              "    fill: var(--button-hover-fill-color);\n",
              "  }\n",
              "\n",
              "  .colab-df-quickchart-complete:disabled,\n",
              "  .colab-df-quickchart-complete:disabled:hover {\n",
              "    background-color: var(--disabled-bg-color);\n",
              "    fill: var(--disabled-fill-color);\n",
              "    box-shadow: none;\n",
              "  }\n",
              "\n",
              "  .colab-df-spinner {\n",
              "    border: 2px solid var(--fill-color);\n",
              "    border-color: transparent;\n",
              "    border-bottom-color: var(--fill-color);\n",
              "    animation:\n",
              "      spin 1s steps(1) infinite;\n",
              "  }\n",
              "\n",
              "  @keyframes spin {\n",
              "    0% {\n",
              "      border-color: transparent;\n",
              "      border-bottom-color: var(--fill-color);\n",
              "      border-left-color: var(--fill-color);\n",
              "    }\n",
              "    20% {\n",
              "      border-color: transparent;\n",
              "      border-left-color: var(--fill-color);\n",
              "      border-top-color: var(--fill-color);\n",
              "    }\n",
              "    30% {\n",
              "      border-color: transparent;\n",
              "      border-left-color: var(--fill-color);\n",
              "      border-top-color: var(--fill-color);\n",
              "      border-right-color: var(--fill-color);\n",
              "    }\n",
              "    40% {\n",
              "      border-color: transparent;\n",
              "      border-right-color: var(--fill-color);\n",
              "      border-top-color: var(--fill-color);\n",
              "    }\n",
              "    60% {\n",
              "      border-color: transparent;\n",
              "      border-right-color: var(--fill-color);\n",
              "    }\n",
              "    80% {\n",
              "      border-color: transparent;\n",
              "      border-right-color: var(--fill-color);\n",
              "      border-bottom-color: var(--fill-color);\n",
              "    }\n",
              "    90% {\n",
              "      border-color: transparent;\n",
              "      border-bottom-color: var(--fill-color);\n",
              "    }\n",
              "  }\n",
              "</style>\n",
              "\n",
              "  <script>\n",
              "    async function quickchart(key) {\n",
              "      const quickchartButtonEl =\n",
              "        document.querySelector('#' + key + ' button');\n",
              "      quickchartButtonEl.disabled = true;  // To prevent multiple clicks.\n",
              "      quickchartButtonEl.classList.add('colab-df-spinner');\n",
              "      try {\n",
              "        const charts = await google.colab.kernel.invokeFunction(\n",
              "            'suggestCharts', [key], {});\n",
              "      } catch (error) {\n",
              "        console.error('Error during call to suggestCharts:', error);\n",
              "      }\n",
              "      quickchartButtonEl.classList.remove('colab-df-spinner');\n",
              "      quickchartButtonEl.classList.add('colab-df-quickchart-complete');\n",
              "    }\n",
              "    (() => {\n",
              "      let quickchartButtonEl =\n",
              "        document.querySelector('#df-ebca3036-7c30-4a14-9bc5-5aebbd8068ba button');\n",
              "      quickchartButtonEl.style.display =\n",
              "        google.colab.kernel.accessAllowed ? 'block' : 'none';\n",
              "    })();\n",
              "  </script>\n",
              "</div>\n",
              "\n",
              "  <div id=\"id_bc48b663-d638-4325-8042-78902f76877f\">\n",
              "    <style>\n",
              "      .colab-df-generate {\n",
              "        background-color: #E8F0FE;\n",
              "        border: none;\n",
              "        border-radius: 50%;\n",
              "        cursor: pointer;\n",
              "        display: none;\n",
              "        fill: #1967D2;\n",
              "        height: 32px;\n",
              "        padding: 0 0 0 0;\n",
              "        width: 32px;\n",
              "      }\n",
              "\n",
              "      .colab-df-generate:hover {\n",
              "        background-color: #E2EBFA;\n",
              "        box-shadow: 0px 1px 2px rgba(60, 64, 67, 0.3), 0px 1px 3px 1px rgba(60, 64, 67, 0.15);\n",
              "        fill: #174EA6;\n",
              "      }\n",
              "\n",
              "      [theme=dark] .colab-df-generate {\n",
              "        background-color: #3B4455;\n",
              "        fill: #D2E3FC;\n",
              "      }\n",
              "\n",
              "      [theme=dark] .colab-df-generate:hover {\n",
              "        background-color: #434B5C;\n",
              "        box-shadow: 0px 1px 3px 1px rgba(0, 0, 0, 0.15);\n",
              "        filter: drop-shadow(0px 1px 2px rgba(0, 0, 0, 0.3));\n",
              "        fill: #FFFFFF;\n",
              "      }\n",
              "    </style>\n",
              "    <button class=\"colab-df-generate\" onclick=\"generateWithVariable('df')\"\n",
              "            title=\"Generate code using this dataframe.\"\n",
              "            style=\"display:none;\">\n",
              "\n",
              "  <svg xmlns=\"http://www.w3.org/2000/svg\" height=\"24px\"viewBox=\"0 0 24 24\"\n",
              "       width=\"24px\">\n",
              "    <path d=\"M7,19H8.4L18.45,9,17,7.55,7,17.6ZM5,21V16.75L18.45,3.32a2,2,0,0,1,2.83,0l1.4,1.43a1.91,1.91,0,0,1,.58,1.4,1.91,1.91,0,0,1-.58,1.4L9.25,21ZM18.45,9,17,7.55Zm-12,3A5.31,5.31,0,0,0,4.9,8.1,5.31,5.31,0,0,0,1,6.5,5.31,5.31,0,0,0,4.9,4.9,5.31,5.31,0,0,0,6.5,1,5.31,5.31,0,0,0,8.1,4.9,5.31,5.31,0,0,0,12,6.5,5.46,5.46,0,0,0,6.5,12Z\"/>\n",
              "  </svg>\n",
              "    </button>\n",
              "    <script>\n",
              "      (() => {\n",
              "      const buttonEl =\n",
              "        document.querySelector('#id_bc48b663-d638-4325-8042-78902f76877f button.colab-df-generate');\n",
              "      buttonEl.style.display =\n",
              "        google.colab.kernel.accessAllowed ? 'block' : 'none';\n",
              "\n",
              "      buttonEl.onclick = () => {\n",
              "        google.colab.notebook.generateWithVariable('df');\n",
              "      }\n",
              "      })();\n",
              "    </script>\n",
              "  </div>\n",
              "\n",
              "    </div>\n",
              "  </div>\n"
            ],
            "application/vnd.google.colaboratory.intrinsic+json": {
              "type": "dataframe",
              "variable_name": "df"
            }
          },
          "metadata": {},
          "execution_count": 5
        }
      ]
    },
    {
      "cell_type": "markdown",
      "source": [
        "#### 1.2.3 Data Uniqueness"
      ],
      "metadata": {
        "id": "7BCA5-lwaG9o"
      }
    },
    {
      "cell_type": "code",
      "source": [
        "print(f\"Number of rows: {df.shape[0]}\")\n",
        "print(f\"Number of unique users: {df['user_id'].nunique()}\")\n",
        "print(f\"Number of unique artists: {df['artistname'].nunique()}\")\n",
        "print(f\"Number of unique tracks: {df['trackname'].nunique()}\")\n",
        "print(f\"Number of unique playlists: {df['playlistname'].nunique()}\")"
      ],
      "metadata": {
        "colab": {
          "base_uri": "https://localhost:8080/"
        },
        "id": "OAIZq8GksN6R",
        "outputId": "d2823d6f-745f-44d6-e298-ebbff860c67a"
      },
      "execution_count": null,
      "outputs": [
        {
          "output_type": "stream",
          "name": "stdout",
          "text": [
            "Number of rows: 713579\n",
            "Number of unique users: 14517\n",
            "Number of unique artists: 76991\n",
            "Number of unique tracks: 294005\n",
            "Number of unique playlists: 95918\n"
          ]
        }
      ]
    },
    {
      "cell_type": "markdown",
      "source": [
        "#### 1.2.4 Missing Rate"
      ],
      "metadata": {
        "id": "pgZLAP3haK-Y"
      }
    },
    {
      "cell_type": "code",
      "source": [
        "df.isnull().sum()"
      ],
      "metadata": {
        "colab": {
          "base_uri": "https://localhost:8080/",
          "height": 210
        },
        "id": "7OHWiAr3tK2A",
        "outputId": "6d2b16fd-16b5-43c1-d78b-31e8edfb4167"
      },
      "execution_count": null,
      "outputs": [
        {
          "output_type": "execute_result",
          "data": {
            "text/plain": [
              "user_id            0\n",
              "artistname      1616\n",
              "trackname          6\n",
              "playlistname      65\n",
              "dtype: int64"
            ],
            "text/html": [
              "<div>\n",
              "<style scoped>\n",
              "    .dataframe tbody tr th:only-of-type {\n",
              "        vertical-align: middle;\n",
              "    }\n",
              "\n",
              "    .dataframe tbody tr th {\n",
              "        vertical-align: top;\n",
              "    }\n",
              "\n",
              "    .dataframe thead th {\n",
              "        text-align: right;\n",
              "    }\n",
              "</style>\n",
              "<table border=\"1\" class=\"dataframe\">\n",
              "  <thead>\n",
              "    <tr style=\"text-align: right;\">\n",
              "      <th></th>\n",
              "      <th>0</th>\n",
              "    </tr>\n",
              "  </thead>\n",
              "  <tbody>\n",
              "    <tr>\n",
              "      <th>user_id</th>\n",
              "      <td>0</td>\n",
              "    </tr>\n",
              "    <tr>\n",
              "      <th>artistname</th>\n",
              "      <td>1616</td>\n",
              "    </tr>\n",
              "    <tr>\n",
              "      <th>trackname</th>\n",
              "      <td>6</td>\n",
              "    </tr>\n",
              "    <tr>\n",
              "      <th>playlistname</th>\n",
              "      <td>65</td>\n",
              "    </tr>\n",
              "  </tbody>\n",
              "</table>\n",
              "</div><br><label><b>dtype:</b> int64</label>"
            ]
          },
          "metadata": {},
          "execution_count": 7
        }
      ]
    },
    {
      "cell_type": "markdown",
      "source": [
        "### 1.3 EDA - Visualizations\n",
        "#### 1.3.1 Tracks per User"
      ],
      "metadata": {
        "id": "S6CtWQrwaNzw"
      }
    },
    {
      "cell_type": "code",
      "source": [
        "tracks_per_user = df.groupby('user_id')['trackname'].count()\n",
        "tracks_per_user = tracks_per_user.reset_index()\n",
        "tracks_per_user = tracks_per_user[tracks_per_user['trackname'] < 200]"
      ],
      "metadata": {
        "id": "stCqaoGDtyI1"
      },
      "execution_count": null,
      "outputs": []
    },
    {
      "cell_type": "code",
      "source": [
        "plt.figure(figsize=(8, 6))\n",
        "sns.histplot(tracks_per_user, bins=10, kde=False)\n",
        "plt.title('Distribution of Tracks per User')\n",
        "plt.xlabel('Number of Tracks')\n",
        "plt.ylabel('Number of Users')\n",
        "plt.show()"
      ],
      "metadata": {
        "colab": {
          "base_uri": "https://localhost:8080/",
          "height": 564
        },
        "id": "GzQMhdpHtN3D",
        "outputId": "188edf19-7d31-499e-d0ef-0f9ae2e34a41"
      },
      "execution_count": null,
      "outputs": [
        {
          "output_type": "display_data",
          "data": {
            "text/plain": [
              "<Figure size 800x600 with 1 Axes>"
            ],
            "image/png": "[encoded data removed]"
          },
          "metadata": {}
        }
      ]
    },
    {
      "cell_type": "markdown",
      "source": [
        "#### 1.3.2 Top Artists"
      ],
      "metadata": {
        "id": "BUpX8BJlaaGh"
      }
    },
    {
      "cell_type": "code",
      "source": [
        "top_artists = df['artistname'].value_counts().head(30)\n",
        "\n",
        "plt.figure(figsize=(10, 6))\n",
        "sns.barplot(y=top_artists.index, x=top_artists.values, palette='viridis')\n",
        "plt.title('Top 10 Artists')\n",
        "plt.xlabel('Number of Occurrences')\n",
        "plt.ylabel('Artist Name')\n",
        "plt.show()"
      ],
      "metadata": {
        "colab": {
          "base_uri": "https://localhost:8080/",
          "height": 564
        },
        "id": "LSosMHOauv7d",
        "outputId": "e45a6e50-a708-4007-e095-437a076528aa"
      },
      "execution_count": null,
      "outputs": [
        {
          "output_type": "display_data",
          "data": {
            "text/plain": [
              "<Figure size 1000x600 with 1 Axes>"
            ],
            "image/png": "[encoded data removed]"
          },
          "metadata": {}
        }
      ]
    },
    {
      "cell_type": "markdown",
      "source": [
        "### 1.4 Feature Engineering\n",
        "#### 1.4.1 Artists Cleaning\n",
        "\n",
        "Except user interactions itself we have the text data like playlist and artists names that we potentially can use building our recommendation system. I apply NLP techniques for data cleaning."
      ],
      "metadata": {
        "id": "mBguv8F0adsU"
      }
    },
    {
      "cell_type": "code",
      "source": [
        "df['artistname'] = df['artistname'].str.lower()\n",
        "df['trackname'] = df['trackname'].str.lower()\n",
        "df['playlistname'] = df['playlistname'].str.lower()"
      ],
      "metadata": {
        "id": "JxlcINOBuseT"
      },
      "execution_count": null,
      "outputs": []
    },
    {
      "cell_type": "code",
      "source": [
        "df = df.dropna()"
      ],
      "metadata": {
        "id": "eDw6LNVSu22a"
      },
      "execution_count": null,
      "outputs": []
    },
    {
      "cell_type": "markdown",
      "source": [
        "#### 1.4.2 Artists Separation\n",
        "\n",
        "Sometimes artists collab and if we will use artists as a feature we should consider collaborations of artists A&B similar to both A and B."
      ],
      "metadata": {
        "id": "DHs1Pahoajh6"
      }
    },
    {
      "cell_type": "code",
      "source": [
        "def split_artists(artist):\n",
        "    return re.split(r'\\s*(?:&|and|feat\\.?|ft\\.?|x)\\s*', artist)\n",
        "\n",
        "df['artistname'] = df['artistname'].apply(split_artists)\n",
        "df = df.explode('artistname')\n",
        "df['artistname'] = df['artistname'].str.strip()"
      ],
      "metadata": {
        "id": "yBWGhS9Fu6IR"
      },
      "execution_count": null,
      "outputs": []
    },
    {
      "cell_type": "markdown",
      "source": [
        "#### 1.4.1 Lemmatization\n",
        "\n",
        "Applying basic NLP techniques in case I will use playlist names similarity as a features."
      ],
      "metadata": {
        "id": "5H33nQF9al9t"
      }
    },
    {
      "cell_type": "code",
      "source": [
        "stop_words = set(stopwords.words('english'))\n",
        "lemmatizer = WordNetLemmatizer()\n",
        "\n",
        "def preprocess_text(text):\n",
        "    text = text.translate(str.maketrans('', '', string.punctuation))\n",
        "    tokens = text.split()\n",
        "    tokens = [lemmatizer.lemmatize(word) for word in tokens if word not in stop_words]\n",
        "    return ' '.join(tokens)\n",
        "\n",
        "df['playlistname_processed'] = df['playlistname'].apply(preprocess_text)"
      ],
      "metadata": {
        "id": "sCDxfR57u7xZ"
      },
      "execution_count": null,
      "outputs": []
    },
    {
      "cell_type": "code",
      "source": [
        "df"
      ],
      "metadata": {
        "colab": {
          "base_uri": "https://localhost:8080/",
          "height": 424
        },
        "id": "9JDbHffYvIMo",
        "outputId": "aec3205e-c164-43ca-b616-b8726cea32df"
      },
      "execution_count": null,
      "outputs": [
        {
          "output_type": "execute_result",
          "data": {
            "text/plain": [
              "                                 user_id                artistname  \\\n",
              "0       9cc0cfd4d7d7885102480dd99e7a90d6              joshua radin   \n",
              "1       9cc0cfd4d7d7885102480dd99e7a90d6              joshua radin   \n",
              "2       9cc0cfd4d7d7885102480dd99e7a90d6               the coronas   \n",
              "3       07f0fc3be95dcd878966b1f9572ff670                      c418   \n",
              "4       07f0fc3be95dcd878966b1f9572ff670               glen porter   \n",
              "...                                  ...                       ...   \n",
              "643572  2302bf9c64dc63d88a750215ed187f2c              meat puppets   \n",
              "643573  2302bf9c64dc63d88a750215ed187f2c          jane's addiction   \n",
              "643574  2302bf9c64dc63d88a750215ed187f2c              robin trower   \n",
              "643575  2302bf9c64dc63d88a750215ed187f2c           velvet revolver   \n",
              "643576  2302bf9c64dc63d88a750215ed187f2c  rage against the machine   \n",
              "\n",
              "                                        trackname    playlistname  \\\n",
              "0             i'd rather be with you [radio edit]  hard rock 2010   \n",
              "1                                        only you  hard rock 2010   \n",
              "2                                  san diego song  hard rock 2010   \n",
              "3                           droopy likes ricochet            c418   \n",
              "4                                        29 palms       chill out   \n",
              "...                                           ...             ...   \n",
              "643572                                  backwater          iphone   \n",
              "643573                       been caught stealing          iphone   \n",
              "643574  bridge of sighs - 2007 remastered version          iphone   \n",
              "643575                             fall to pieces          iphone   \n",
              "643576                            know your enemy          iphone   \n",
              "\n",
              "       playlistname_processed  \n",
              "0              hard rock 2010  \n",
              "1              hard rock 2010  \n",
              "2              hard rock 2010  \n",
              "3                        c418  \n",
              "4                       chill  \n",
              "...                       ...  \n",
              "643572                 iphone  \n",
              "643573                 iphone  \n",
              "643574                 iphone  \n",
              "643575                 iphone  \n",
              "643576                 iphone  \n",
              "\n",
              "[713579 rows x 5 columns]"
            ],
            "text/html": [
              "\n",
              "  <div id=\"df-552e4570-7636-4e81-8ae6-db349f9abfa0\" class=\"colab-df-container\">\n",
              "    <div>\n",
              "<style scoped>\n",
              "    .dataframe tbody tr th:only-of-type {\n",
              "        vertical-align: middle;\n",
              "    }\n",
              "\n",
              "    .dataframe tbody tr th {\n",
              "        vertical-align: top;\n",
              "    }\n",
              "\n",
              "    .dataframe thead th {\n",
              "        text-align: right;\n",
              "    }\n",
              "</style>\n",
              "<table border=\"1\" class=\"dataframe\">\n",
              "  <thead>\n",
              "    <tr style=\"text-align: right;\">\n",
              "      <th></th>\n",
              "      <th>user_id</th>\n",
              "      <th>artistname</th>\n",
              "      <th>trackname</th>\n",
              "      <th>playlistname</th>\n",
              "      <th>playlistname_processed</th>\n",
              "    </tr>\n",
              "  </thead>\n",
              "  <tbody>\n",
              "    <tr>\n",
              "      <th>0</th>\n",
              "      <td>9cc0cfd4d7d7885102480dd99e7a90d6</td>\n",
              "      <td>joshua radin</td>\n",
              "      <td>i'd rather be with you [radio edit]</td>\n",
              "      <td>hard rock 2010</td>\n",
              "      <td>hard rock 2010</td>\n",
              "    </tr>\n",
              "    <tr>\n",
              "      <th>1</th>\n",
              "      <td>9cc0cfd4d7d7885102480dd99e7a90d6</td>\n",
              "      <td>joshua radin</td>\n",
              "      <td>only you</td>\n",
              "      <td>hard rock 2010</td>\n",
              "      <td>hard rock 2010</td>\n",
              "    </tr>\n",
              "    <tr>\n",
              "      <th>2</th>\n",
              "      <td>9cc0cfd4d7d7885102480dd99e7a90d6</td>\n",
              "      <td>the coronas</td>\n",
              "      <td>san diego song</td>\n",
              "      <td>hard rock 2010</td>\n",
              "      <td>hard rock 2010</td>\n",
              "    </tr>\n",
              "    <tr>\n",
              "      <th>3</th>\n",
              "      <td>07f0fc3be95dcd878966b1f9572ff670</td>\n",
              "      <td>c418</td>\n",
              "      <td>droopy likes ricochet</td>\n",
              "      <td>c418</td>\n",
              "      <td>c418</td>\n",
              "    </tr>\n",
              "    <tr>\n",
              "      <th>4</th>\n",
              "      <td>07f0fc3be95dcd878966b1f9572ff670</td>\n",
              "      <td>glen porter</td>\n",
              "      <td>29 palms</td>\n",
              "      <td>chill out</td>\n",
              "      <td>chill</td>\n",
              "    </tr>\n",
              "    <tr>\n",
              "      <th>...</th>\n",
              "      <td>...</td>\n",
              "      <td>...</td>\n",
              "      <td>...</td>\n",
              "      <td>...</td>\n",
              "      <td>...</td>\n",
              "    </tr>\n",
              "    <tr>\n",
              "      <th>643572</th>\n",
              "      <td>2302bf9c64dc63d88a750215ed187f2c</td>\n",
              "      <td>meat puppets</td>\n",
              "      <td>backwater</td>\n",
              "      <td>iphone</td>\n",
              "      <td>iphone</td>\n",
              "    </tr>\n",
              "    <tr>\n",
              "      <th>643573</th>\n",
              "      <td>2302bf9c64dc63d88a750215ed187f2c</td>\n",
              "      <td>jane's addiction</td>\n",
              "      <td>been caught stealing</td>\n",
              "      <td>iphone</td>\n",
              "      <td>iphone</td>\n",
              "    </tr>\n",
              "    <tr>\n",
              "      <th>643574</th>\n",
              "      <td>2302bf9c64dc63d88a750215ed187f2c</td>\n",
              "      <td>robin trower</td>\n",
              "      <td>bridge of sighs - 2007 remastered version</td>\n",
              "      <td>iphone</td>\n",
              "      <td>iphone</td>\n",
              "    </tr>\n",
              "    <tr>\n",
              "      <th>643575</th>\n",
              "      <td>2302bf9c64dc63d88a750215ed187f2c</td>\n",
              "      <td>velvet revolver</td>\n",
              "      <td>fall to pieces</td>\n",
              "      <td>iphone</td>\n",
              "      <td>iphone</td>\n",
              "    </tr>\n",
              "    <tr>\n",
              "      <th>643576</th>\n",
              "      <td>2302bf9c64dc63d88a750215ed187f2c</td>\n",
              "      <td>rage against the machine</td>\n",
              "      <td>know your enemy</td>\n",
              "      <td>iphone</td>\n",
              "      <td>iphone</td>\n",
              "    </tr>\n",
              "  </tbody>\n",
              "</table>\n",
              "<p>713579 rows × 5 columns</p>\n",
              "</div>\n",
              "    <div class=\"colab-df-buttons\">\n",
              "\n",
              "  <div class=\"colab-df-container\">\n",
              "    <button class=\"colab-df-convert\" onclick=\"convertToInteractive('df-552e4570-7636-4e81-8ae6-db349f9abfa0')\"\n",
              "            title=\"Convert this dataframe to an interactive table.\"\n",
              "            style=\"display:none;\">\n",
              "\n",
              "  <svg xmlns=\"http://www.w3.org/2000/svg\" height=\"24px\" viewBox=\"0 -960 960 960\">\n",
              "    <path d=\"M120-120v-720h720v720H120Zm60-500h600v-160H180v160Zm220 220h160v-160H400v160Zm0 220h160v-160H400v160ZM180-400h160v-160H180v160Zm440 0h160v-160H620v160ZM180-180h160v-160H180v160Zm440 0h160v-160H620v160Z\"/>\n",
              "  </svg>\n",
              "    </button>\n",
              "\n",
              "  <style>\n",
              "    .colab-df-container {\n",
              "      display:flex;\n",
              "      gap: 12px;\n",
              "    }\n",
              "\n",
              "    .colab-df-convert {\n",
              "      background-color: #E8F0FE;\n",
              "      border: none;\n",
              "      border-radius: 50%;\n",
              "      cursor: pointer;\n",
              "      display: none;\n",
              "      fill: #1967D2;\n",
              "      height: 32px;\n",
              "      padding: 0 0 0 0;\n",
              "      width: 32px;\n",
              "    }\n",
              "\n",
              "    .colab-df-convert:hover {\n",
              "      background-color: #E2EBFA;\n",
              "      box-shadow: 0px 1px 2px rgba(60, 64, 67, 0.3), 0px 1px 3px 1px rgba(60, 64, 67, 0.15);\n",
              "      fill: #174EA6;\n",
              "    }\n",
              "\n",
              "    .colab-df-buttons div {\n",
              "      margin-bottom: 4px;\n",
              "    }\n",
              "\n",
              "    [theme=dark] .colab-df-convert {\n",
              "      background-color: #3B4455;\n",
              "      fill: #D2E3FC;\n",
              "    }\n",
              "\n",
              "    [theme=dark] .colab-df-convert:hover {\n",
              "      background-color: #434B5C;\n",
              "      box-shadow: 0px 1px 3px 1px rgba(0, 0, 0, 0.15);\n",
              "      filter: drop-shadow(0px 1px 2px rgba(0, 0, 0, 0.3));\n",
              "      fill: #FFFFFF;\n",
              "    }\n",
              "  </style>\n",
              "\n",
              "    <script>\n",
              "      const buttonEl =\n",
              "        document.querySelector('#df-552e4570-7636-4e81-8ae6-db349f9abfa0 button.colab-df-convert');\n",
              "      buttonEl.style.display =\n",
              "        google.colab.kernel.accessAllowed ? 'block' : 'none';\n",
              "\n",
              "      async function convertToInteractive(key) {\n",
              "        const element = document.querySelector('#df-552e4570-7636-4e81-8ae6-db349f9abfa0');\n",
              "        const dataTable =\n",
              "          await google.colab.kernel.invokeFunction('convertToInteractive',\n",
              "                                                    [key], {});\n",
              "        if (!dataTable) return;\n",
              "\n",
              "        const docLinkHtml = 'Like what you see? Visit the ' +\n",
              "          '<a target=\"_blank\" href=https://colab.research.google.com/notebooks/data_table.ipynb>data table notebook</a>'\n",
              "          + ' to learn more about interactive tables.';\n",
              "        element.innerHTML = '';\n",
              "        dataTable['output_type'] = 'display_data';\n",
              "        await google.colab.output.renderOutput(dataTable, element);\n",
              "        const docLink = document.createElement('div');\n",
              "        docLink.innerHTML = docLinkHtml;\n",
              "        element.appendChild(docLink);\n",
              "      }\n",
              "    </script>\n",
              "  </div>\n",
              "\n",
              "\n",
              "<div id=\"df-9b3e2bf7-49f4-43b1-a9ba-55523172923d\">\n",
              "  <button class=\"colab-df-quickchart\" onclick=\"quickchart('df-9b3e2bf7-49f4-43b1-a9ba-55523172923d')\"\n",
              "            title=\"Suggest charts\"\n",
              "            style=\"display:none;\">\n",
              "\n",
              "<svg xmlns=\"http://www.w3.org/2000/svg\" height=\"24px\"viewBox=\"0 0 24 24\"\n",
              "     width=\"24px\">\n",
              "    <g>\n",
              "        <path d=\"M19 3H5c-1.1 0-2 .9-2 2v14c0 1.1.9 2 2 2h14c1.1 0 2-.9 2-2V5c0-1.1-.9-2-2-2zM9 17H7v-7h2v7zm4 0h-2V7h2v10zm4 0h-2v-4h2v4z\"/>\n",
              "    </g>\n",
              "</svg>\n",
              "  </button>\n",
              "\n",
              "<style>\n",
              "  .colab-df-quickchart {\n",
              "      --bg-color: #E8F0FE;\n",
              "      --fill-color: #1967D2;\n",
              "      --hover-bg-color: #E2EBFA;\n",
              "      --hover-fill-color: #174EA6;\n",
              "      --disabled-fill-color: #AAA;\n",
              "      --disabled-bg-color: #DDD;\n",
              "  }\n",
              "\n",
              "  [theme=dark] .colab-df-quickchart {\n",
              "      --bg-color: #3B4455;\n",
              "      --fill-color: #D2E3FC;\n",
              "      --hover-bg-color: #434B5C;\n",
              "      --hover-fill-color: #FFFFFF;\n",
              "      --disabled-bg-color: #3B4455;\n",
              "      --disabled-fill-color: #666;\n",
              "  }\n",
              "\n",
              "  .colab-df-quickchart {\n",
              "    background-color: var(--bg-color);\n",
              "    border: none;\n",
              "    border-radius: 50%;\n",
              "    cursor: pointer;\n",
              "    display: none;\n",
              "    fill: var(--fill-color);\n",
              "    height: 32px;\n",
              "    padding: 0;\n",
              "    width: 32px;\n",
              "  }\n",
              "\n",
              "  .colab-df-quickchart:hover {\n",
              "    background-color: var(--hover-bg-color);\n",
              "    box-shadow: 0 1px 2px rgba(60, 64, 67, 0.3), 0 1px 3px 1px rgba(60, 64, 67, 0.15);\n",
              "    fill: var(--button-hover-fill-color);\n",
              "  }\n",
              "\n",
              "  .colab-df-quickchart-complete:disabled,\n",
              "  .colab-df-quickchart-complete:disabled:hover {\n",
              "    background-color: var(--disabled-bg-color);\n",
              "    fill: var(--disabled-fill-color);\n",
              "    box-shadow: none;\n",
              "  }\n",
              "\n",
              "  .colab-df-spinner {\n",
              "    border: 2px solid var(--fill-color);\n",
              "    border-color: transparent;\n",
              "    border-bottom-color: var(--fill-color);\n",
              "    animation:\n",
              "      spin 1s steps(1) infinite;\n",
              "  }\n",
              "\n",
              "  @keyframes spin {\n",
              "    0% {\n",
              "      border-color: transparent;\n",
              "      border-bottom-color: var(--fill-color);\n",
              "      border-left-color: var(--fill-color);\n",
              "    }\n",
              "    20% {\n",
              "      border-color: transparent;\n",
              "      border-left-color: var(--fill-color);\n",
              "      border-top-color: var(--fill-color);\n",
              "    }\n",
              "    30% {\n",
              "      border-color: transparent;\n",
              "      border-left-color: var(--fill-color);\n",
              "      border-top-color: var(--fill-color);\n",
              "      border-right-color: var(--fill-color);\n",
              "    }\n",
              "    40% {\n",
              "      border-color: transparent;\n",
              "      border-right-color: var(--fill-color);\n",
              "      border-top-color: var(--fill-color);\n",
              "    }\n",
              "    60% {\n",
              "      border-color: transparent;\n",
              "      border-right-color: var(--fill-color);\n",
              "    }\n",
              "    80% {\n",
              "      border-color: transparent;\n",
              "      border-right-color: var(--fill-color);\n",
              "      border-bottom-color: var(--fill-color);\n",
              "    }\n",
              "    90% {\n",
              "      border-color: transparent;\n",
              "      border-bottom-color: var(--fill-color);\n",
              "    }\n",
              "  }\n",
              "</style>\n",
              "\n",
              "  <script>\n",
              "    async function quickchart(key) {\n",
              "      const quickchartButtonEl =\n",
              "        document.querySelector('#' + key + ' button');\n",
              "      quickchartButtonEl.disabled = true;  // To prevent multiple clicks.\n",
              "      quickchartButtonEl.classList.add('colab-df-spinner');\n",
              "      try {\n",
              "        const charts = await google.colab.kernel.invokeFunction(\n",
              "            'suggestCharts', [key], {});\n",
              "      } catch (error) {\n",
              "        console.error('Error during call to suggestCharts:', error);\n",
              "      }\n",
              "      quickchartButtonEl.classList.remove('colab-df-spinner');\n",
              "      quickchartButtonEl.classList.add('colab-df-quickchart-complete');\n",
              "    }\n",
              "    (() => {\n",
              "      let quickchartButtonEl =\n",
              "        document.querySelector('#df-9b3e2bf7-49f4-43b1-a9ba-55523172923d button');\n",
              "      quickchartButtonEl.style.display =\n",
              "        google.colab.kernel.accessAllowed ? 'block' : 'none';\n",
              "    })();\n",
              "  </script>\n",
              "</div>\n",
              "\n",
              "  <div id=\"id_71812501-b202-4331-9924-44cc0521e842\">\n",
              "    <style>\n",
              "      .colab-df-generate {\n",
              "        background-color: #E8F0FE;\n",
              "        border: none;\n",
              "        border-radius: 50%;\n",
              "        cursor: pointer;\n",
              "        display: none;\n",
              "        fill: #1967D2;\n",
              "        height: 32px;\n",
              "        padding: 0 0 0 0;\n",
              "        width: 32px;\n",
              "      }\n",
              "\n",
              "      .colab-df-generate:hover {\n",
              "        background-color: #E2EBFA;\n",
              "        box-shadow: 0px 1px 2px rgba(60, 64, 67, 0.3), 0px 1px 3px 1px rgba(60, 64, 67, 0.15);\n",
              "        fill: #174EA6;\n",
              "      }\n",
              "\n",
              "      [theme=dark] .colab-df-generate {\n",
              "        background-color: #3B4455;\n",
              "        fill: #D2E3FC;\n",
              "      }\n",
              "\n",
              "      [theme=dark] .colab-df-generate:hover {\n",
              "        background-color: #434B5C;\n",
              "        box-shadow: 0px 1px 3px 1px rgba(0, 0, 0, 0.15);\n",
              "        filter: drop-shadow(0px 1px 2px rgba(0, 0, 0, 0.3));\n",
              "        fill: #FFFFFF;\n",
              "      }\n",
              "    </style>\n",
              "    <button class=\"colab-df-generate\" onclick=\"generateWithVariable('df')\"\n",
              "            title=\"Generate code using this dataframe.\"\n",
              "            style=\"display:none;\">\n",
              "\n",
              "  <svg xmlns=\"http://www.w3.org/2000/svg\" height=\"24px\"viewBox=\"0 0 24 24\"\n",
              "       width=\"24px\">\n",
              "    <path d=\"M7,19H8.4L18.45,9,17,7.55,7,17.6ZM5,21V16.75L18.45,3.32a2,2,0,0,1,2.83,0l1.4,1.43a1.91,1.91,0,0,1,.58,1.4,1.91,1.91,0,0,1-.58,1.4L9.25,21ZM18.45,9,17,7.55Zm-12,3A5.31,5.31,0,0,0,4.9,8.1,5.31,5.31,0,0,0,1,6.5,5.31,5.31,0,0,0,4.9,4.9,5.31,5.31,0,0,0,6.5,1,5.31,5.31,0,0,0,8.1,4.9,5.31,5.31,0,0,0,12,6.5,5.46,5.46,0,0,0,6.5,12Z\"/>\n",
              "  </svg>\n",
              "    </button>\n",
              "    <script>\n",
              "      (() => {\n",
              "      const buttonEl =\n",
              "        document.querySelector('#id_71812501-b202-4331-9924-44cc0521e842 button.colab-df-generate');\n",
              "      buttonEl.style.display =\n",
              "        google.colab.kernel.accessAllowed ? 'block' : 'none';\n",
              "\n",
              "      buttonEl.onclick = () => {\n",
              "        google.colab.notebook.generateWithVariable('df');\n",
              "      }\n",
              "      })();\n",
              "    </script>\n",
              "  </div>\n",
              "\n",
              "    </div>\n",
              "  </div>\n"
            ],
            "application/vnd.google.colaboratory.intrinsic+json": {
              "type": "dataframe",
              "variable_name": "df"
            }
          },
          "metadata": {},
          "execution_count": 15
        }
      ]
    },
    {
      "cell_type": "markdown",
      "source": [
        "## 2. Analysis\n",
        "## 2.1 Models Building\n",
        "### 2.1.1 Users Similarity\n",
        "\n",
        "I build a matrix users x tracks. In this case, every user has embedding of songs they listen. Recommended songs in this engine design are tracks listened by similar users (users with similar embeddings). I build such a matrix using df pivot, then calculate similarity of users."
      ],
      "metadata": {
        "id": "lDc9M9A1aq_2"
      }
    },
    {
      "cell_type": "code",
      "source": [
        "interaction_matrix = df.pivot_table(\n",
        "    index='user_id', columns='trackname',\n",
        "    values='artistname', aggfunc='count'\n",
        "    ).fillna(0)\n"
      ],
      "metadata": {
        "id": "REeCf4kju8yV"
      },
      "execution_count": null,
      "outputs": []
    },
    {
      "cell_type": "code",
      "source": [
        "user_similarity = cosine_similarity(interaction_matrix)\n",
        "user_similarity_df = pd.DataFrame(\n",
        "    user_similarity, index=interaction_matrix.index,\n",
        "    columns=interaction_matrix.index\n",
        "    )"
      ],
      "metadata": {
        "id": "e8IgVxlXD8AE"
      },
      "execution_count": null,
      "outputs": []
    },
    {
      "cell_type": "code",
      "source": [
        "def user_based_recommendation(user_id, interaction_matrix, user_similarity_df, k=10):\n",
        "    user_songs_list = interaction_matrix.loc[user_id]\n",
        "    already_listened = user_songs_list[user_songs_list > 0].index.tolist()\n",
        "\n",
        "    if len(interaction_matrix) <= 1:\n",
        "        return []\n",
        "\n",
        "    similarity_scores = user_similarity_df[user_id].drop(user_id, errors='ignore')\n",
        "    similar_users = sim_scores[similarity_scores > 0].sort_values(ascending=False).index.tolist()\n",
        "\n",
        "    if not similar_users:\n",
        "        return []\n",
        "\n",
        "    similar_users_songs = interaction_matrix.loc[similar_users]\n",
        "    song_scores = similar_users_songs.sum(axis=0)\n",
        "    song_scores = song_scores.drop(already_listened, errors='ignore')\n",
        "    recommended_songs = song_scores.sort_values(ascending=False).head(k).index.tolist()\n",
        "\n",
        "    return recommended_songs"
      ],
      "metadata": {
        "id": "iTFM2q-EbSK4"
      },
      "execution_count": null,
      "outputs": []
    },
    {
      "cell_type": "markdown",
      "source": [
        "### 2.1.2 Dimensionality Reduction\n",
        "\n",
        "The second model follows the same recommendation engine design but should perform faster because of dimensionality reduction."
      ],
      "metadata": {
        "id": "pYyjEhgDa8KC"
      }
    },
    {
      "cell_type": "code",
      "source": [
        "svd = TruncatedSVD(n_components=15, random_state=42)\n",
        "latent_matrix = svd.fit_transform(interaction_matrix)\n",
        "reconstructed_matrix = np.dot(latent_matrix, svd.components_)\n",
        "reconstructed_df = pd.DataFrame(\n",
        "    reconstructed_matrix,\n",
        "    index=interaction_matrix.index,\n",
        "    columns=interaction_matrix.columns\n",
        "    )\n"
      ],
      "metadata": {
        "id": "N125AAWaOHBX"
      },
      "execution_count": null,
      "outputs": []
    },
    {
      "cell_type": "code",
      "source": [
        "def matrix_factorization_recommendation(user_id, reconstructed_df, k=10):\n",
        "    if user_id not in reconstructed_df.index:\n",
        "        return []\n",
        "\n",
        "    user_songs = reconstructed_df.loc[user_id]\n",
        "    user_songs_sorted = user_songs.sort_values(ascending=False)\n",
        "    recommended_songs = user_songs_sorted.head(k).index.tolist()\n",
        "    return recommended_songs"
      ],
      "metadata": {
        "id": "Awrhqpb5bUnG"
      },
      "execution_count": null,
      "outputs": []
    },
    {
      "cell_type": "markdown",
      "source": [
        "### 2.2 Models Evaluation\n",
        "#### 2.2.1 Train/test Split\n",
        "\n",
        "The data is tricky, we have interactions of users and we need to exclude specified % of test data interaction for every user. The data is pretty big and we have to do this efficiently to don't spend too much time and compute on this basic operation."
      ],
      "metadata": {
        "id": "qOK0Jp2GbClO"
      }
    },
    {
      "cell_type": "code",
      "source": [
        "def train_test_split_user(data, test_size=0.2, random_state=42):\n",
        "    np.random.seed(random_state)\n",
        "\n",
        "    user_counts = data['user_id'].value_counts()\n",
        "\n",
        "    users_train_all = user_counts[user_counts < 2].index\n",
        "    users_split = user_counts[user_counts >= 2].index\n",
        "    train_data = data[data['user_id'].isin(users_train_all)]\n",
        "    split_data = data[data['user_id'].isin(users_split)].copy()\n",
        "    split_data['is_test'] = split_data.groupby('user_id')['user_id'].transform(\n",
        "        lambda x: np.random.rand(len(x)) < test_size\n",
        "    )\n",
        "\n",
        "    test_data = split_data[split_data['is_test']].drop(columns=['is_test'])\n",
        "    train_split = split_data[~split_data['is_test']]\n",
        "\n",
        "    train_data = pd.concat([train_data, train_split])\n",
        "\n",
        "    return train_data.reset_index(drop=True), test_data.reset_index(drop=True)\n",
        "\n",
        "train_df, test_df = train_test_split_user(df)\n"
      ],
      "metadata": {
        "id": "5lbYViaAx84R"
      },
      "execution_count": null,
      "outputs": []
    },
    {
      "cell_type": "markdown",
      "source": [
        "We need a separate matrix of user interactions that doesn't use interactions from the train data."
      ],
      "metadata": {
        "id": "5JwT2lyNcaZZ"
      }
    },
    {
      "cell_type": "code",
      "source": [
        "train_interaction_matrix = train_df.pivot_table(\n",
        "    index='user_id', columns='trackname',\n",
        "    values='artistname', aggfunc='count'\n",
        "    ).fillna(0)"
      ],
      "metadata": {
        "id": "48OtJxKFx9un"
      },
      "execution_count": null,
      "outputs": []
    },
    {
      "cell_type": "markdown",
      "source": [
        "### 2.3 Metrics\n",
        "#### 2.3.1 Precision\n",
        "The proportion of recommended items in the top k (10 in my case) that are relevant."
      ],
      "metadata": {
        "id": "GaSgDlD0bmWh"
      }
    },
    {
      "cell_type": "code",
      "source": [
        "def precision_at_k(recommended, relevant, k):\n",
        "    if not recommended:\n",
        "        return 0.0\n",
        "    recommended_at_k = recommended[:k]\n",
        "    relevant_set = set(relevant)\n",
        "    recommended_set = set(recommended_at_k)\n",
        "    precision = len(recommended_set & relevant_set) / min(k, len(recommended_at_k))\n",
        "    return precision"
      ],
      "metadata": {
        "id": "sjqGLV_zbuLK"
      },
      "execution_count": null,
      "outputs": []
    },
    {
      "cell_type": "markdown",
      "source": [
        "#### 2.3.2 Recall\n",
        "\n",
        "Measures the proportion of relevant items retrieved in the top recommendations."
      ],
      "metadata": {
        "id": "m_9o0QSFk_rQ"
      }
    },
    {
      "cell_type": "code",
      "source": [
        "def recall_at_k(recommended, relevant, k):\n",
        "    if not relevant:\n",
        "        return 0.0\n",
        "    recommended_at_k = recommended[:k]\n",
        "    relevant_set = set(relevant)\n",
        "    recommended_set = set(recommended_at_k)\n",
        "    recall = len(recommended_set & relevant_set) / len(relevant_set)\n",
        "    return recall"
      ],
      "metadata": {
        "id": "7I2FBernbuNM"
      },
      "execution_count": null,
      "outputs": []
    },
    {
      "cell_type": "markdown",
      "source": [
        "#### 2.3.3 Normalized Discounted Cumulative Gain\n",
        "\n",
        "Measures the ranking quality by assigning higher weights to relevant items that appear earlier in the recommendations."
      ],
      "metadata": {
        "id": "zpwAhyEElB55"
      }
    },
    {
      "cell_type": "code",
      "source": [
        "def ndcg_at_k(recommended, relevant, k):\n",
        "    if not relevant:\n",
        "        return 0.0\n",
        "    dcg = 0.0\n",
        "    for i, rec in enumerate(recommended[:k]):\n",
        "        if rec in relevant:\n",
        "            dcg += 1 / np.log2(i + 2)\n",
        "    idcg = sum([1 / np.log2(i + 2) for i in range(min(len(relevant), k))])\n",
        "    return dcg / idcg if idcg > 0 else 0.0"
      ],
      "metadata": {
        "id": "jdBdoaDNbv8l"
      },
      "execution_count": null,
      "outputs": []
    },
    {
      "cell_type": "markdown",
      "source": [
        "### 2.4 Models Evaluation and Comparison\n",
        "#### 2.4.1 Model Evaluation for a User\n",
        "\n",
        "I'm making a prediction for specified user and calculate all of the metrics."
      ],
      "metadata": {
        "id": "QQlsOXEKbxtn"
      }
    },
    {
      "cell_type": "code",
      "source": [
        "def evaluate_model(recommend_func, user_id, interaction_matrix, test_df, k=10):\n",
        "    recommended_songs = recommend_func(user_id, interaction_matrix, k=k)\n",
        "    test_songs = test_df[test_df['user_id'] == user_id]['trackname'].unique().tolist()\n",
        "\n",
        "    if not test_songs:\n",
        "        return None\n",
        "\n",
        "    precision = precision_at_k(recommended_songs, test_songs, k)\n",
        "    recall = recall_at_k(recommended_songs, test_songs, k)\n",
        "    ndcg = ndcg_at_k(recommended_songs, test_songs, k)\n",
        "\n",
        "    return {'precision': precision, 'recall': recall, 'ndcg': ndcg}"
      ],
      "metadata": {
        "id": "wDeOkLtGyC4E"
      },
      "execution_count": null,
      "outputs": []
    },
    {
      "cell_type": "markdown",
      "source": [
        "#### 2.4.2 Model Evaluation for Multiple Users\n",
        "\n",
        "I'm making prediction for N users and analyse distribution of every metric across users to get better sense of the model performance."
      ],
      "metadata": {
        "id": "IcfsdNEKb4ew"
      }
    },
    {
      "cell_type": "code",
      "source": [
        "def evaluate_for_multiple_users(lambda_func, users=10):\n",
        "  results = {\n",
        "      'precision': [],\n",
        "      'recall': [],\n",
        "      'ndcg': []\n",
        "  }\n",
        "  for i in range(1,users):\n",
        "    try:\n",
        "      user_id = interaction_matrix.index[i]\n",
        "      evaluation_results = evaluate_model(\n",
        "          lambda_func,\n",
        "          user_id,\n",
        "          train_interaction_matrix,\n",
        "          test_df,\n",
        "          k=10\n",
        "      )\n",
        "      for metric in ['precision','recall','ndcg']:\n",
        "        results[metric].append(evaluation_results[metric])\n",
        "    except:\n",
        "      pass\n",
        "\n",
        "  print(results)\n",
        "  for metric in ['precision','recall','ndcg']:\n",
        "    measures = results[metric]\n",
        "    print(f'Metric {metric}: median {round(np.median(measures),2)}, avg \\\n",
        "    {round(np.average(measures),2)}, range {round(np.min(measures),2)}-{round(np.max(measures),2)}')\n",
        "\n"
      ],
      "metadata": {
        "colab": {
          "base_uri": "https://localhost:8080/"
        },
        "id": "RbrrMPIayD6Q",
        "outputId": "59398f9a-ef0a-4c0a-d258-152544568aef"
      },
      "execution_count": null,
      "outputs": [
        {
          "output_type": "stream",
          "name": "stdout",
          "text": [
            "{'precision': [0.1, 0.0, 0.1, 0.1, 0.1, 0.1, 0.0, 0.2, 0.2], 'recall': [0.5, 0.0, 0.16666666666666666, 0.004484304932735426, 0.25, 0.09090909090909091, 0.0, 0.2222222222222222, 0.10526315789473684], 'ndcg': [0.6131471927654584, 0.0, 0.19092086617893467, 0.11004588314904008, 0.15101961822780524, 0.22009176629808017, 0.0, 0.33627415762678553, 0.2984900352767555]}\n",
            "Metric precision: median 0.1, avg     0.1, range 0.0-0.2\n",
            "Metric recall: median 0.11, avg     0.15, range 0.0-0.5\n",
            "Metric ndcg: median 0.19, avg     0.21, range 0.0-0.61\n"
          ]
        }
      ]
    },
    {
      "cell_type": "markdown",
      "source": [
        "## 3. Results: Models Evaluation and Comparison"
      ],
      "metadata": {
        "id": "2z2lcyADb_hP"
      }
    },
    {
      "cell_type": "markdown",
      "source": [
        "## 3.1 User Based Recommendation"
      ],
      "metadata": {
        "id": "lRg1P6hLmiBR"
      }
    },
    {
      "cell_type": "code",
      "source": [
        "evaluate_for_multiple_users(\n",
        "    lambda_func=lambda uid, im, k: user_based_recommendation(uid, im, user_similarity_df, k),\n",
        "    users=100\n",
        ")"
      ],
      "metadata": {
        "colab": {
          "base_uri": "https://localhost:8080/"
        },
        "id": "w8tM1BpVYEkK",
        "outputId": "2ecb137c-907b-4ecc-9759-9f3eef725fad"
      },
      "execution_count": null,
      "outputs": [
        {
          "output_type": "stream",
          "name": "stdout",
          "text": [
            "No similar users found for user 009d6038a80daf642db5d1198b760c58.\n",
            "No similar users found for user 01429fbf7fb40aaaa3bcb0d621eb25c7.\n",
            "No similar users found for user 014fe0acb3ceee63fd15f3e5610424de.\n",
            "{'precision': [0.1, 0.0, 0.1, 0.1, 0.1, 0.1, 0.0, 0.2, 0.2, 0.0, 0.2, 0.3, 0.3, 0.0, 0.0, 0.1, 0.2, 0.0, 0.0, 0.1, 0.2, 0.0, 0.1, 0.1, 0.2, 0.1, 0.0, 0.3, 0.1, 0.1, 0.0, 0.1, 0.1, 0.0, 0.4, 0.1, 0.0, 0.2, 0.2, 0.2, 0.0, 0.2, 0.1, 0.3, 0.1, 0.0, 0.0, 0.1, 0.4, 0.0, 0.2, 0.2, 0.0, 0.2, 0.3, 0.1, 0.1, 0.1, 0.4, 0.2, 0.0, 0.0, 0.0, 0.1, 0.2, 0.0, 0.2, 0.0, 0.1, 0.1, 0.2, 0.1, 0.1, 0.0, 0.3, 0.0], 'recall': [0.5, 0.0, 0.16666666666666666, 0.004484304932735426, 0.25, 0.09090909090909091, 0.0, 0.2222222222222222, 0.10526315789473684, 0.0, 1.0, 0.1875, 0.5, 0.0, 0.0, 0.3333333333333333, 0.5, 0.0, 0.0, 1.0, 0.2857142857142857, 0.0, 0.16666666666666666, 0.3333333333333333, 0.04, 1.0, 0.0, 0.2727272727272727, 0.5, 0.25, 0.0, 0.3333333333333333, 0.25, 0.0, 0.36363636363636365, 0.08333333333333333, 0.0, 0.25, 0.4, 0.07692307692307693, 0.0, 0.15384615384615385, 0.06666666666666667, 0.09375, 0.038461538461538464, 0.0, 0.0, 0.005988023952095809, 0.5714285714285714, 0.0, 0.2857142857142857, 0.09090909090909091, 0.0, 0.2857142857142857, 0.6, 0.1111111111111111, 0.1, 1.0, 0.3076923076923077, 0.18181818181818182, 0.0, 0.0, 0.0, 0.09090909090909091, 0.4, 0.0, 0.06060606060606061, 0.0, 0.043478260869565216, 0.2, 0.5, 0.5, 0.08333333333333333, 0.0, 0.75, 0.0], 'ndcg': [0.6131471927654584, 0.0, 0.19092086617893467, 0.11004588314904008, 0.15101961822780524, 0.22009176629808017, 0.0, 0.33627415762678553, 0.2984900352767555, 0.0, 0.8772153153380493, 0.31833954895937183, 0.644824486427155, 0.0, 0.0, 0.46927872602275644, 0.5413996682199069, 0.0, 0.0, 1.0, 0.4483039899025303, 0.0, 0.30260241349881345, 0.46927872602275644, 0.2051166673279436, 0.6309297535714575, 0.0, 0.424926013816671, 0.23719771276929622, 0.24630238874073, 0.0, 0.46927872602275644, 0.3903800499921017, 0.0, 0.3565964385966262, 0.06943122193677727, 0.0, 0.41253177989255346, 0.5087403079104241, 0.15176219107803537, 0.0, 0.3589542101716347, 0.06625422345438903, 0.2618080742270754, 0.22009176629808017, 0.0, 0.0, 0.07336392209936005, 0.5745176001095237, 0.0, 0.4483039899025303, 0.3589542101716347, 0.0, 0.3727892582642586, 0.7227265726449519, 0.23504554941448536, 0.22009176629808017, 1.0, 0.4480300279758384, 0.21726071285222986, 0.0, 0.0, 0.0, 0.13886244387355454, 0.4599715079731103, 0.0, 0.33013764944712026, 0.0, 0.22009176629808017, 0.14606834984270645, 0.5855700749881525, 0.6131471927654584, 0.22009176629808017, 0.0, 0.7030861797445797, 0.0]}\n",
            "Metric precision: median 0.1, avg     0.12, range 0.0-0.4\n",
            "Metric recall: median 0.1, avg     0.21, range 0.0-1.0\n",
            "Metric ndcg: median 0.22, avg     0.26, range 0.0-1.0\n"
          ]
        }
      ]
    },
    {
      "cell_type": "markdown",
      "source": [
        "0.1 precision and recall for just 5% sample and 10 recommendations using simplest recommendation method is pretty good"
      ],
      "metadata": {
        "id": "Y3p7v2I9of5x"
      }
    },
    {
      "cell_type": "markdown",
      "source": [
        "## 3.2 Matrix Factorization"
      ],
      "metadata": {
        "id": "GnQEzKUBmmNO"
      }
    },
    {
      "cell_type": "code",
      "source": [
        "evaluate_for_multiple_users(\n",
        "    lambda_func=lambda uid, im, k: matrix_factorization_recommendation(uid, reconstructed_df, k),\n",
        "    users=100\n",
        ")\n"
      ],
      "metadata": {
        "colab": {
          "base_uri": "https://localhost:8080/"
        },
        "id": "EdR7-E4mW-p3",
        "outputId": "e02f0bf2-322b-43f1-dbdf-d7a9a7a3b614"
      },
      "execution_count": null,
      "outputs": [
        {
          "output_type": "stream",
          "name": "stdout",
          "text": [
            "{'precision': [0.0, 0.0, 0.0, 0.0, 0.0, 0.0, 0.0, 0.0, 0.0, 0.0, 0.0, 0.0, 0.0, 0.1, 0.0, 0.0, 0.0, 0.0, 0.0, 0.0, 0.0, 0.0, 0.0, 0.0, 0.0, 0.0, 0.0, 0.0, 0.0, 0.0, 0.0, 0.0, 0.0, 0.0, 0.0, 0.0, 0.0, 0.0, 0.0, 0.1, 0.0, 0.0, 0.0, 0.0, 0.0, 0.1, 0.0, 0.0, 0.0, 0.0, 0.0, 0.0, 0.0, 0.0, 0.0, 0.0, 0.0, 0.0, 0.0, 0.0, 0.0, 0.1, 0.0, 0.0, 0.0, 0.0, 0.0, 0.0, 0.0, 0.0, 0.0, 0.0, 0.1, 0.0, 0.0, 0.0, 0.0, 0.0, 0.0, 0.0, 0.0, 0.0], 'recall': [0.0, 0.0, 0.0, 0.0, 0.0, 0.0, 0.0, 0.0, 0.0, 0.0, 0.0, 0.0, 0.0, 0.2, 0.0, 0.0, 0.0, 0.0, 0.0, 0.0, 0.0, 0.0, 0.0, 0.0, 0.0, 0.0, 0.0, 0.0, 0.0, 0.0, 0.0, 0.0, 0.0, 0.0, 0.0, 0.0, 0.0, 0.0, 0.0, 0.125, 0.0, 0.0, 0.0, 0.0, 0.0, 0.03125, 0.0, 0.0, 0.0, 0.0, 0.0, 0.0, 0.0, 0.0, 0.0, 0.0, 0.0, 0.0, 0.0, 0.0, 0.0, 0.034482758620689655, 0.0, 0.0, 0.0, 0.0, 0.0, 0.0, 0.0, 0.0, 0.0, 0.0, 0.030303030303030304, 0.0, 0.0, 0.0, 0.0, 0.0, 0.0, 0.0, 0.0, 0.0], 'ndcg': [0.0, 0.0, 0.0, 0.0, 0.0, 0.0, 0.0, 0.0, 0.0, 0.0, 0.0, 0.0, 0.0, 0.21398626473452756, 0.0, 0.0, 0.0, 0.0, 0.0, 0.0, 0.0, 0.0, 0.0, 0.0, 0.0, 0.0, 0.0, 0.0, 0.0, 0.0, 0.0, 0.0, 0.0, 0.0, 0.0, 0.0, 0.0, 0.0, 0.0, 0.2529427027676571, 0.0, 0.0, 0.0, 0.0, 0.0, 0.07336392209936005, 0.0, 0.0, 0.0, 0.0, 0.0, 0.0, 0.0, 0.0, 0.0, 0.0, 0.0, 0.0, 0.0, 0.0, 0.0, 0.06362078819895171, 0.0, 0.0, 0.0, 0.0, 0.0, 0.0, 0.0, 0.0, 0.0, 0.0, 0.06943122193677727, 0.0, 0.0, 0.0, 0.0, 0.0, 0.0, 0.0, 0.0, 0.0]}\n",
            "Metric precision: median 0.0, avg     0.01, range 0.0-0.1\n",
            "Metric recall: median 0.0, avg     0.01, range 0.0-0.2\n",
            "Metric ndcg: median 0.0, avg     0.01, range 0.0-0.25\n"
          ]
        }
      ]
    },
    {
      "cell_type": "markdown",
      "source": [
        "0.01 avg precision shows that the model with factorization basically doesn't work"
      ],
      "metadata": {
        "id": "Uzam7uRQpCoR"
      }
    },
    {
      "cell_type": "markdown",
      "source": [
        "# 4. Results Discussion"
      ],
      "metadata": {
        "id": "HEFyjOtbpLAG"
      }
    },
    {
      "cell_type": "markdown",
      "source": [
        "First model gives much better results providing 10% relevant recommendations that is good considering the fact that we are using only 5% of the data. Matrix factorization though gives us way worse results but has much better performance calculating recommendations for 100 users for just 4 seconds compared to 2 minutes for full calculation.\n",
        "\n",
        "Recommendation engine is a trade off between speed/compute and quality of predictions. This trade-off is also driven by amount of available compute and data. I don't have enough compute but have a lot of data. Maybe if I had more compute and was able to use full data instead of sample, factorization method would work better and good enough for actual usage when full calculation for every user would become unacceptable. In this case of production level model, second model would be preferred. But considering compute limitations and that there is no necessity to deploy on production, that I can't use full data, **I think model 1 without factorization is better**.\n",
        "\n",
        "Also, I didn't use other recommendation engine methods. Initially I planned to look for similar playlists and recommend from similar playlists. Similarity of playlist could be calculated using names similarity, content similarity. Artists dimensions isn't touched. It's also possible to clusterize artists, users, playlists for more complex analysis. But the dataset is so big and heavy to compute that I decided to use only simple methods."
      ],
      "metadata": {
        "id": "MKaActEBmqtR"
      }
    }
  ]
}